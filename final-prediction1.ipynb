{
 "cells": [
  {
   "cell_type": "code",
   "execution_count": 3,
   "source": [
    "%matplotlib inline\n",
    "import pandas as pd\n",
    "import numpy as np\n",
    "import matplotlib.pyplot as plt\n",
    "import seaborn as sns\n",
    "from scipy import stats\n",
    "from ast import literal_eval\n",
    "from sklearn.feature_extraction.text import TfidfVectorizer, CountVectorizer\n",
    "from sklearn.metrics.pairwise import linear_kernel, cosine_similarity\n",
    "from nltk.stem.snowball import SnowballStemmer\n",
    "from nltk.stem.wordnet import WordNetLemmatizer\n",
    "from nltk.corpus import wordnet\n",
    "# from surprise import Reader, Dataset, SVD, evaluate\n",
    "from surprise import Reader, Dataset, SVD\n",
    "from surprise.model_selection import cross_validate\n",
    "import pickle\n",
    "\n",
    "import warnings; warnings.simplefilter('ignore')"
   ],
   "outputs": [],
   "metadata": {}
  },
  {
   "cell_type": "code",
   "execution_count": 4,
   "source": [
    "smd = pd. read_csv('./dataset/tfid_smd.csv')"
   ],
   "outputs": [],
   "metadata": {
    "_cell_guid": "0b968a6a-6b0d-4df6-9e28-91c06e6c36c2",
    "_uuid": "3f2a7f55a030beeb06b713f854e4ca6a69b5ca13"
   }
  },
  {
   "cell_type": "code",
   "execution_count": 5,
   "source": [
    "smd"
   ],
   "outputs": [
    {
     "output_type": "execute_result",
     "data": {
      "text/plain": [
       "      Unnamed: 0  index  adult  \\\n",
       "0              0      0  False   \n",
       "1              1      1  False   \n",
       "2              2      2  False   \n",
       "3              3      3  False   \n",
       "4              4      4  False   \n",
       "...          ...    ...    ...   \n",
       "9094        9094  40224  False   \n",
       "9095        9095  40503  False   \n",
       "9096        9096  44821  False   \n",
       "9097        9097  44826  False   \n",
       "9098        9098  45265  False   \n",
       "\n",
       "                                  belongs_to_collection    budget  \\\n",
       "0     {'id': 10194, 'name': 'Toy Story Collection', ...  30000000   \n",
       "1                                                   NaN  65000000   \n",
       "2     {'id': 119050, 'name': 'Grumpy Old Men Collect...         0   \n",
       "3                                                   NaN  16000000   \n",
       "4     {'id': 96871, 'name': 'Father of the Bride Col...         0   \n",
       "...                                                 ...       ...   \n",
       "9094                                                NaN  15000000   \n",
       "9095                                                NaN         0   \n",
       "9096  {'id': 34055, 'name': 'Pokémon Collection', 'p...  16000000   \n",
       "9097  {'id': 34055, 'name': 'Pokémon Collection', 'p...         0   \n",
       "9098                                                NaN         0   \n",
       "\n",
       "                                                 genres  \\\n",
       "0                     ['Animation', 'Comedy', 'Family']   \n",
       "1                    ['Adventure', 'Fantasy', 'Family']   \n",
       "2                                 ['Romance', 'Comedy']   \n",
       "3                        ['Comedy', 'Drama', 'Romance']   \n",
       "4                                            ['Comedy']   \n",
       "...                                                 ...   \n",
       "9094  ['Action', 'Adventure', 'Drama', 'Horror', 'Sc...   \n",
       "9095                           ['Documentary', 'Music']   \n",
       "9096  ['Adventure', 'Fantasy', 'Animation', 'Action'...   \n",
       "9097  ['Adventure', 'Fantasy', 'Animation', 'Science...   \n",
       "9098                                ['Comedy', 'Drama']   \n",
       "\n",
       "                                               homepage      id    imdb_id  \\\n",
       "0                  http://toystory.disney.com/toy-story     862  tt0114709   \n",
       "1                                                   NaN    8844  tt0113497   \n",
       "2                                                   NaN   15602  tt0113228   \n",
       "3                                                   NaN   31357  tt0114885   \n",
       "4                                                   NaN   11862  tt0113041   \n",
       "...                                                 ...     ...        ...   \n",
       "9094                                                NaN  315011  tt4262980   \n",
       "9095              http://www.thebeatlesliveproject.com/  391698  tt2531318   \n",
       "9096                  http://movies.warnerbros.com/pk3/   10991  tt0235679   \n",
       "9097  http://www.pokemon.com/us/movies/movie-pokemon...   12600  tt0287635   \n",
       "9098                                                NaN  265189  tt2121382   \n",
       "\n",
       "     original_language  ... runtime  \\\n",
       "0                   en  ...    81.0   \n",
       "1                   en  ...   104.0   \n",
       "2                   en  ...   101.0   \n",
       "3                   en  ...   127.0   \n",
       "4                   en  ...   106.0   \n",
       "...                ...  ...     ...   \n",
       "9094                ja  ...   120.0   \n",
       "9095                en  ...    99.0   \n",
       "9096                ja  ...    93.0   \n",
       "9097                ja  ...    75.0   \n",
       "9098                sv  ...   118.0   \n",
       "\n",
       "                                       spoken_languages    status  \\\n",
       "0              [{'iso_639_1': 'en', 'name': 'English'}]  Released   \n",
       "1     [{'iso_639_1': 'en', 'name': 'English'}, {'iso...  Released   \n",
       "2              [{'iso_639_1': 'en', 'name': 'English'}]  Released   \n",
       "3              [{'iso_639_1': 'en', 'name': 'English'}]  Released   \n",
       "4              [{'iso_639_1': 'en', 'name': 'English'}]  Released   \n",
       "...                                                 ...       ...   \n",
       "9094  [{'iso_639_1': 'it', 'name': 'Italiano'}, {'is...  Released   \n",
       "9095           [{'iso_639_1': 'en', 'name': 'English'}]  Released   \n",
       "9096           [{'iso_639_1': 'en', 'name': 'English'}]  Released   \n",
       "9097               [{'iso_639_1': 'ja', 'name': '日本語'}]  Released   \n",
       "9098  [{'iso_639_1': 'fr', 'name': 'Français'}, {'is...  Released   \n",
       "\n",
       "                                                tagline  \\\n",
       "0                                                   NaN   \n",
       "1             Roll the dice and unleash the excitement!   \n",
       "2     Still Yelling. Still Fighting. Still Ready for...   \n",
       "3     Friends are the people who let you be yourself...   \n",
       "4     Just When His World Is Back To Normal... He's ...   \n",
       "...                                                 ...   \n",
       "9094                    A god incarnate. A city doomed.   \n",
       "9095            The band you know. The story you don't.   \n",
       "9096                      Pokémon: Spell of the Unknown   \n",
       "9097                                                NaN   \n",
       "9098                                                NaN   \n",
       "\n",
       "                                                  title  video vote_average  \\\n",
       "0                                             Toy Story  False          7.7   \n",
       "1                                               Jumanji  False          6.9   \n",
       "2                                      Grumpier Old Men  False          6.5   \n",
       "3                                     Waiting to Exhale  False          6.1   \n",
       "4                           Father of the Bride Part II  False          5.7   \n",
       "...                                                 ...    ...          ...   \n",
       "9094                                      Shin Godzilla  False          6.6   \n",
       "9095  The Beatles: Eight Days a Week - The Touring Y...  False          7.6   \n",
       "9096                      Pokémon: Spell of the Unknown  False          6.0   \n",
       "9097        Pokémon 4Ever: Celebi - Voice of the Forest  False          5.7   \n",
       "9098                                      Force Majeure  False          6.8   \n",
       "\n",
       "      vote_count  year                                        description  \n",
       "0         5415.0  1995  Led by Woody, Andy's toys live happily in his ...  \n",
       "1         2413.0  1995  When siblings Judy and Peter discover an encha...  \n",
       "2           92.0  1995  A family wedding reignites the ancient feud be...  \n",
       "3           34.0  1995  Cheated on, mistreated and stepped on, the wom...  \n",
       "4          173.0  1995  Just when George Banks has recovered from his ...  \n",
       "...          ...   ...                                                ...  \n",
       "9094       152.0  2016  From the mind behind Evangelion comes a hit la...  \n",
       "9095        92.0  2016  The band stormed Europe in 1963, and, in 1964,...  \n",
       "9096       144.0  2000  When Molly Hale's sadness of her father's disa...  \n",
       "9097        82.0  2001  All your favorite Pokémon characters are back,...  \n",
       "9098       255.0  2014  While holidaying in the French Alps, a Swedish...  \n",
       "\n",
       "[9099 rows x 28 columns]"
      ],
      "text/html": [
       "<div>\n",
       "<style scoped>\n",
       "    .dataframe tbody tr th:only-of-type {\n",
       "        vertical-align: middle;\n",
       "    }\n",
       "\n",
       "    .dataframe tbody tr th {\n",
       "        vertical-align: top;\n",
       "    }\n",
       "\n",
       "    .dataframe thead th {\n",
       "        text-align: right;\n",
       "    }\n",
       "</style>\n",
       "<table border=\"1\" class=\"dataframe\">\n",
       "  <thead>\n",
       "    <tr style=\"text-align: right;\">\n",
       "      <th></th>\n",
       "      <th>Unnamed: 0</th>\n",
       "      <th>index</th>\n",
       "      <th>adult</th>\n",
       "      <th>belongs_to_collection</th>\n",
       "      <th>budget</th>\n",
       "      <th>genres</th>\n",
       "      <th>homepage</th>\n",
       "      <th>id</th>\n",
       "      <th>imdb_id</th>\n",
       "      <th>original_language</th>\n",
       "      <th>...</th>\n",
       "      <th>runtime</th>\n",
       "      <th>spoken_languages</th>\n",
       "      <th>status</th>\n",
       "      <th>tagline</th>\n",
       "      <th>title</th>\n",
       "      <th>video</th>\n",
       "      <th>vote_average</th>\n",
       "      <th>vote_count</th>\n",
       "      <th>year</th>\n",
       "      <th>description</th>\n",
       "    </tr>\n",
       "  </thead>\n",
       "  <tbody>\n",
       "    <tr>\n",
       "      <th>0</th>\n",
       "      <td>0</td>\n",
       "      <td>0</td>\n",
       "      <td>False</td>\n",
       "      <td>{'id': 10194, 'name': 'Toy Story Collection', ...</td>\n",
       "      <td>30000000</td>\n",
       "      <td>['Animation', 'Comedy', 'Family']</td>\n",
       "      <td>http://toystory.disney.com/toy-story</td>\n",
       "      <td>862</td>\n",
       "      <td>tt0114709</td>\n",
       "      <td>en</td>\n",
       "      <td>...</td>\n",
       "      <td>81.0</td>\n",
       "      <td>[{'iso_639_1': 'en', 'name': 'English'}]</td>\n",
       "      <td>Released</td>\n",
       "      <td>NaN</td>\n",
       "      <td>Toy Story</td>\n",
       "      <td>False</td>\n",
       "      <td>7.7</td>\n",
       "      <td>5415.0</td>\n",
       "      <td>1995</td>\n",
       "      <td>Led by Woody, Andy's toys live happily in his ...</td>\n",
       "    </tr>\n",
       "    <tr>\n",
       "      <th>1</th>\n",
       "      <td>1</td>\n",
       "      <td>1</td>\n",
       "      <td>False</td>\n",
       "      <td>NaN</td>\n",
       "      <td>65000000</td>\n",
       "      <td>['Adventure', 'Fantasy', 'Family']</td>\n",
       "      <td>NaN</td>\n",
       "      <td>8844</td>\n",
       "      <td>tt0113497</td>\n",
       "      <td>en</td>\n",
       "      <td>...</td>\n",
       "      <td>104.0</td>\n",
       "      <td>[{'iso_639_1': 'en', 'name': 'English'}, {'iso...</td>\n",
       "      <td>Released</td>\n",
       "      <td>Roll the dice and unleash the excitement!</td>\n",
       "      <td>Jumanji</td>\n",
       "      <td>False</td>\n",
       "      <td>6.9</td>\n",
       "      <td>2413.0</td>\n",
       "      <td>1995</td>\n",
       "      <td>When siblings Judy and Peter discover an encha...</td>\n",
       "    </tr>\n",
       "    <tr>\n",
       "      <th>2</th>\n",
       "      <td>2</td>\n",
       "      <td>2</td>\n",
       "      <td>False</td>\n",
       "      <td>{'id': 119050, 'name': 'Grumpy Old Men Collect...</td>\n",
       "      <td>0</td>\n",
       "      <td>['Romance', 'Comedy']</td>\n",
       "      <td>NaN</td>\n",
       "      <td>15602</td>\n",
       "      <td>tt0113228</td>\n",
       "      <td>en</td>\n",
       "      <td>...</td>\n",
       "      <td>101.0</td>\n",
       "      <td>[{'iso_639_1': 'en', 'name': 'English'}]</td>\n",
       "      <td>Released</td>\n",
       "      <td>Still Yelling. Still Fighting. Still Ready for...</td>\n",
       "      <td>Grumpier Old Men</td>\n",
       "      <td>False</td>\n",
       "      <td>6.5</td>\n",
       "      <td>92.0</td>\n",
       "      <td>1995</td>\n",
       "      <td>A family wedding reignites the ancient feud be...</td>\n",
       "    </tr>\n",
       "    <tr>\n",
       "      <th>3</th>\n",
       "      <td>3</td>\n",
       "      <td>3</td>\n",
       "      <td>False</td>\n",
       "      <td>NaN</td>\n",
       "      <td>16000000</td>\n",
       "      <td>['Comedy', 'Drama', 'Romance']</td>\n",
       "      <td>NaN</td>\n",
       "      <td>31357</td>\n",
       "      <td>tt0114885</td>\n",
       "      <td>en</td>\n",
       "      <td>...</td>\n",
       "      <td>127.0</td>\n",
       "      <td>[{'iso_639_1': 'en', 'name': 'English'}]</td>\n",
       "      <td>Released</td>\n",
       "      <td>Friends are the people who let you be yourself...</td>\n",
       "      <td>Waiting to Exhale</td>\n",
       "      <td>False</td>\n",
       "      <td>6.1</td>\n",
       "      <td>34.0</td>\n",
       "      <td>1995</td>\n",
       "      <td>Cheated on, mistreated and stepped on, the wom...</td>\n",
       "    </tr>\n",
       "    <tr>\n",
       "      <th>4</th>\n",
       "      <td>4</td>\n",
       "      <td>4</td>\n",
       "      <td>False</td>\n",
       "      <td>{'id': 96871, 'name': 'Father of the Bride Col...</td>\n",
       "      <td>0</td>\n",
       "      <td>['Comedy']</td>\n",
       "      <td>NaN</td>\n",
       "      <td>11862</td>\n",
       "      <td>tt0113041</td>\n",
       "      <td>en</td>\n",
       "      <td>...</td>\n",
       "      <td>106.0</td>\n",
       "      <td>[{'iso_639_1': 'en', 'name': 'English'}]</td>\n",
       "      <td>Released</td>\n",
       "      <td>Just When His World Is Back To Normal... He's ...</td>\n",
       "      <td>Father of the Bride Part II</td>\n",
       "      <td>False</td>\n",
       "      <td>5.7</td>\n",
       "      <td>173.0</td>\n",
       "      <td>1995</td>\n",
       "      <td>Just when George Banks has recovered from his ...</td>\n",
       "    </tr>\n",
       "    <tr>\n",
       "      <th>...</th>\n",
       "      <td>...</td>\n",
       "      <td>...</td>\n",
       "      <td>...</td>\n",
       "      <td>...</td>\n",
       "      <td>...</td>\n",
       "      <td>...</td>\n",
       "      <td>...</td>\n",
       "      <td>...</td>\n",
       "      <td>...</td>\n",
       "      <td>...</td>\n",
       "      <td>...</td>\n",
       "      <td>...</td>\n",
       "      <td>...</td>\n",
       "      <td>...</td>\n",
       "      <td>...</td>\n",
       "      <td>...</td>\n",
       "      <td>...</td>\n",
       "      <td>...</td>\n",
       "      <td>...</td>\n",
       "      <td>...</td>\n",
       "      <td>...</td>\n",
       "    </tr>\n",
       "    <tr>\n",
       "      <th>9094</th>\n",
       "      <td>9094</td>\n",
       "      <td>40224</td>\n",
       "      <td>False</td>\n",
       "      <td>NaN</td>\n",
       "      <td>15000000</td>\n",
       "      <td>['Action', 'Adventure', 'Drama', 'Horror', 'Sc...</td>\n",
       "      <td>NaN</td>\n",
       "      <td>315011</td>\n",
       "      <td>tt4262980</td>\n",
       "      <td>ja</td>\n",
       "      <td>...</td>\n",
       "      <td>120.0</td>\n",
       "      <td>[{'iso_639_1': 'it', 'name': 'Italiano'}, {'is...</td>\n",
       "      <td>Released</td>\n",
       "      <td>A god incarnate. A city doomed.</td>\n",
       "      <td>Shin Godzilla</td>\n",
       "      <td>False</td>\n",
       "      <td>6.6</td>\n",
       "      <td>152.0</td>\n",
       "      <td>2016</td>\n",
       "      <td>From the mind behind Evangelion comes a hit la...</td>\n",
       "    </tr>\n",
       "    <tr>\n",
       "      <th>9095</th>\n",
       "      <td>9095</td>\n",
       "      <td>40503</td>\n",
       "      <td>False</td>\n",
       "      <td>NaN</td>\n",
       "      <td>0</td>\n",
       "      <td>['Documentary', 'Music']</td>\n",
       "      <td>http://www.thebeatlesliveproject.com/</td>\n",
       "      <td>391698</td>\n",
       "      <td>tt2531318</td>\n",
       "      <td>en</td>\n",
       "      <td>...</td>\n",
       "      <td>99.0</td>\n",
       "      <td>[{'iso_639_1': 'en', 'name': 'English'}]</td>\n",
       "      <td>Released</td>\n",
       "      <td>The band you know. The story you don't.</td>\n",
       "      <td>The Beatles: Eight Days a Week - The Touring Y...</td>\n",
       "      <td>False</td>\n",
       "      <td>7.6</td>\n",
       "      <td>92.0</td>\n",
       "      <td>2016</td>\n",
       "      <td>The band stormed Europe in 1963, and, in 1964,...</td>\n",
       "    </tr>\n",
       "    <tr>\n",
       "      <th>9096</th>\n",
       "      <td>9096</td>\n",
       "      <td>44821</td>\n",
       "      <td>False</td>\n",
       "      <td>{'id': 34055, 'name': 'Pokémon Collection', 'p...</td>\n",
       "      <td>16000000</td>\n",
       "      <td>['Adventure', 'Fantasy', 'Animation', 'Action'...</td>\n",
       "      <td>http://movies.warnerbros.com/pk3/</td>\n",
       "      <td>10991</td>\n",
       "      <td>tt0235679</td>\n",
       "      <td>ja</td>\n",
       "      <td>...</td>\n",
       "      <td>93.0</td>\n",
       "      <td>[{'iso_639_1': 'en', 'name': 'English'}]</td>\n",
       "      <td>Released</td>\n",
       "      <td>Pokémon: Spell of the Unknown</td>\n",
       "      <td>Pokémon: Spell of the Unknown</td>\n",
       "      <td>False</td>\n",
       "      <td>6.0</td>\n",
       "      <td>144.0</td>\n",
       "      <td>2000</td>\n",
       "      <td>When Molly Hale's sadness of her father's disa...</td>\n",
       "    </tr>\n",
       "    <tr>\n",
       "      <th>9097</th>\n",
       "      <td>9097</td>\n",
       "      <td>44826</td>\n",
       "      <td>False</td>\n",
       "      <td>{'id': 34055, 'name': 'Pokémon Collection', 'p...</td>\n",
       "      <td>0</td>\n",
       "      <td>['Adventure', 'Fantasy', 'Animation', 'Science...</td>\n",
       "      <td>http://www.pokemon.com/us/movies/movie-pokemon...</td>\n",
       "      <td>12600</td>\n",
       "      <td>tt0287635</td>\n",
       "      <td>ja</td>\n",
       "      <td>...</td>\n",
       "      <td>75.0</td>\n",
       "      <td>[{'iso_639_1': 'ja', 'name': '日本語'}]</td>\n",
       "      <td>Released</td>\n",
       "      <td>NaN</td>\n",
       "      <td>Pokémon 4Ever: Celebi - Voice of the Forest</td>\n",
       "      <td>False</td>\n",
       "      <td>5.7</td>\n",
       "      <td>82.0</td>\n",
       "      <td>2001</td>\n",
       "      <td>All your favorite Pokémon characters are back,...</td>\n",
       "    </tr>\n",
       "    <tr>\n",
       "      <th>9098</th>\n",
       "      <td>9098</td>\n",
       "      <td>45265</td>\n",
       "      <td>False</td>\n",
       "      <td>NaN</td>\n",
       "      <td>0</td>\n",
       "      <td>['Comedy', 'Drama']</td>\n",
       "      <td>NaN</td>\n",
       "      <td>265189</td>\n",
       "      <td>tt2121382</td>\n",
       "      <td>sv</td>\n",
       "      <td>...</td>\n",
       "      <td>118.0</td>\n",
       "      <td>[{'iso_639_1': 'fr', 'name': 'Français'}, {'is...</td>\n",
       "      <td>Released</td>\n",
       "      <td>NaN</td>\n",
       "      <td>Force Majeure</td>\n",
       "      <td>False</td>\n",
       "      <td>6.8</td>\n",
       "      <td>255.0</td>\n",
       "      <td>2014</td>\n",
       "      <td>While holidaying in the French Alps, a Swedish...</td>\n",
       "    </tr>\n",
       "  </tbody>\n",
       "</table>\n",
       "<p>9099 rows × 28 columns</p>\n",
       "</div>"
      ]
     },
     "metadata": {},
     "execution_count": 5
    }
   ],
   "metadata": {}
  },
  {
   "cell_type": "markdown",
   "source": [
    "We have **9099** movies avaiable in our small movies metadata dataset which is 5 times smaller than our original dataset of 45000 movies."
   ],
   "metadata": {
    "_cell_guid": "0f9e6043-68e8-4b0c-a435-e456e19e9144",
    "_uuid": "1ebd72fcc46ac2ac20016ff34dad40a9f8879ac9"
   }
  },
  {
   "cell_type": "markdown",
   "source": [
    "### Movie Description Based Recommender\n",
    "\n",
    "Let us first try to build a recommender using movie descriptions and taglines. We do not have a quantitative metric to judge our machine's performance so this will have to be done qualitatively."
   ],
   "metadata": {
    "_cell_guid": "1e73645a-0b0b-441f-93b4-ce92069e1852",
    "_uuid": "c41800b7a9d8b8d48ba1c22b8430929f54e9884e"
   }
  },
  {
   "cell_type": "code",
   "execution_count": 7,
   "source": [
    "# Testing phase\n",
    "tf1 = pickle.load(open(\"/home/convergytics/Desktop/tfidf1.pkl\", 'rb'))"
   ],
   "outputs": [],
   "metadata": {}
  },
  {
   "cell_type": "code",
   "execution_count": null,
   "source": [
    "cosine_sim = linear_kernel(tf1, tf1)"
   ],
   "outputs": [],
   "metadata": {}
  },
  {
   "cell_type": "markdown",
   "source": [
    "# Primary Prediction"
   ],
   "metadata": {}
  },
  {
   "cell_type": "markdown",
   "source": [
    "#### Cosine Similarity\n",
    "\n",
    "I will be using the Cosine Similarity to calculate a numeric quantity that denotes the similarity between two movies. Mathematically, it is defined as follows:\n",
    "\n",
    "$cosine(x,y) = \\frac{x. y^\\intercal}{||x||.||y||} $\n",
    "\n",
    "Since we have used the TF-IDF Vectorizer, calculating the Dot Product will directly give us the Cosine Similarity Score. Therefore, we will use sklearn's **linear_kernel** instead of cosine_similarities since it is much faster."
   ],
   "metadata": {
    "_cell_guid": "7d4db389-9f30-46e9-b8af-69fe9b40ada5",
    "_uuid": "1a98e05af67de3475999e1891d965ce9f73ce316"
   }
  },
  {
   "cell_type": "code",
   "execution_count": null,
   "source": [
    "cosine_sim[0]"
   ],
   "outputs": [],
   "metadata": {
    "_cell_guid": "148a994f-3e7f-4350-9ea3-41eb95f106e8",
    "_uuid": "ebb6823a9dce997d965dc89049a06512cbfb17af"
   }
  },
  {
   "cell_type": "code",
   "execution_count": null,
   "source": [
    "# cosine_sim_2[0]"
   ],
   "outputs": [],
   "metadata": {}
  },
  {
   "cell_type": "markdown",
   "source": [
    "We now have a pairwise cosine similarity matrix for all the movies in our dataset. The next step is to write a function that returns the 30 most similar movies based on the cosine similarity score."
   ],
   "metadata": {
    "_cell_guid": "f4001114-a1c6-4762-b0cf-64eb4f2658ac",
    "_uuid": "b7a65051edc24edfe6e2afaf3a9c3a148af5bcaf"
   }
  },
  {
   "cell_type": "code",
   "execution_count": null,
   "source": [
    "smd = smd.reset_index()\n",
    "titles = smd['title']\n",
    "indices = pd.Series(smd.index, index=smd['title'])"
   ],
   "outputs": [],
   "metadata": {
    "_cell_guid": "446d22fd-e7c1-42a6-851b-593f60175ce0",
    "_uuid": "ff016d61895e99fe7b0495c51b86917bdbe2712d",
    "collapsed": true
   }
  },
  {
   "cell_type": "code",
   "execution_count": null,
   "source": [
    "def get_recommendations(title):\n",
    "    idx = indices[title]\n",
    "    sim_scores = list(enumerate(cosine_sim[idx]))\n",
    "    sim_scores = sorted(sim_scores, key=lambda x: x[1], reverse=True)\n",
    "    sim_scores = sim_scores[1:31]\n",
    "    movie_indices = [i[0] for i in sim_scores]\n",
    "    return titles.iloc[movie_indices]"
   ],
   "outputs": [],
   "metadata": {
    "_cell_guid": "d7352ae7-fbc3-4459-b257-76a44000ce6a",
    "_uuid": "62f49212a8b935ef63a3643e1bb6f629521f05b7",
    "collapsed": true
   }
  },
  {
   "cell_type": "code",
   "execution_count": null,
   "source": [
    "# def get_recommendations2(title):\n",
    "#     idx = indices[title]\n",
    "#     sim_scores = list(enumerate(cosine_sim_2[idx]))\n",
    "#     sim_scores = sorted(sim_scores, key=lambda x: x[1], reverse=True)\n",
    "#     sim_scores = sim_scores[1:31]\n",
    "#     movie_indices = [i[0] for i in sim_scores]\n",
    "#     return titles.iloc[movie_indices]"
   ],
   "outputs": [],
   "metadata": {}
  },
  {
   "cell_type": "markdown",
   "source": [
    "We're all set. Let us now try and get the top recommendations for a few movies and see how good the recommendations are."
   ],
   "metadata": {
    "_cell_guid": "e8c1e16a-a1ab-4cae-916b-dcdc2ebaf9a9",
    "_uuid": "8960b80c95e09e6b4e328872efebd2e4ee711df2"
   }
  },
  {
   "cell_type": "code",
   "execution_count": null,
   "source": [
    "get_recommendations('The Godfather').head(10)"
   ],
   "outputs": [],
   "metadata": {
    "_cell_guid": "73bb1266-5797-47ce-b61f-fa9e0d7ce077",
    "_uuid": "46f418fd12b35e86a7a2026ef1975be822cadde3"
   }
  },
  {
   "cell_type": "code",
   "execution_count": null,
   "source": [
    "get_recommendations('The Dark Knight').head(10)"
   ],
   "outputs": [],
   "metadata": {}
  },
  {
   "cell_type": "markdown",
   "source": [
    "# Second Prediction"
   ],
   "metadata": {}
  },
  {
   "cell_type": "code",
   "execution_count": null,
   "source": [
    "smd = pd. read_csv('./dataset/count_smd.csv')"
   ],
   "outputs": [],
   "metadata": {}
  },
  {
   "cell_type": "code",
   "execution_count": null,
   "source": [
    "# Testing phase\n",
    "count1 = pickle.load(open(\"/home/convergytics/Desktop/count1.pkl\", 'rb'))"
   ],
   "outputs": [],
   "metadata": {}
  },
  {
   "cell_type": "code",
   "execution_count": null,
   "source": [
    "cosine_sim = cosine_similarity(count1, count1)"
   ],
   "outputs": [],
   "metadata": {}
  },
  {
   "cell_type": "code",
   "execution_count": null,
   "source": [
    "smd = smd.reset_index()\n",
    "titles = smd['title']\n",
    "indices = pd.Series(smd.index, index=smd['title'])"
   ],
   "outputs": [],
   "metadata": {
    "_cell_guid": "d7ee34aa-da42-46bb-93e5-51e893286353",
    "_uuid": "ffa7edd804b3ea3065c6d428fbb613ae7cd203e3",
    "collapsed": true
   }
  },
  {
   "cell_type": "markdown",
   "source": [
    "We will reuse the get_recommendations function that we had written earlier. Since our cosine similarity scores have changed, we expect it to give us different (and probably better) results. Let us check for **The Dark Knight** again and see what recommendations I get this time around."
   ],
   "metadata": {
    "_cell_guid": "7f7ae1dc-41c0-4cd7-af41-74e6075b0d90",
    "_uuid": "37e2da9e51efab9951e6061f677c5ffcad230782"
   }
  },
  {
   "cell_type": "code",
   "execution_count": null,
   "source": [
    "get_recommendations('The Dark Knight').head(10)"
   ],
   "outputs": [],
   "metadata": {
    "_cell_guid": "e755e943-495b-46df-983b-2f8ad80fcd6a",
    "_uuid": "f6e2b6b232e992c783150a0ac5a7038c6de6db37"
   }
  },
  {
   "cell_type": "code",
   "execution_count": null,
   "source": [
    "# smd['title'].to_csv('titles.txt',index=False)"
   ],
   "outputs": [],
   "metadata": {}
  },
  {
   "cell_type": "code",
   "execution_count": null,
   "source": [
    "# crimefile = open(\"titles.txt\", \"r\")\n",
    "# yourResult = [line.split('\\n') for line in crimefile.readlines()]\n",
    "# # list_of_lists = []\n",
    "# # for line in a_file:\n",
    "# #   stripped_line = line.strip()\n",
    "# #   line_list = stripped_line.split()\n",
    "# #   list_of_lists.append(line_list)\n",
    "\n",
    "# # a_file.close()\n",
    "\n",
    "# # print(list_of_lists)\n",
    "# print(yourResult)"
   ],
   "outputs": [],
   "metadata": {}
  },
  {
   "cell_type": "code",
   "execution_count": null,
   "source": [
    "# import json\n",
    "# with open(\"titles.txt\", \"r\") as grilled_cheese:\n",
    "#     lines = grilled_cheese.readlines()\n",
    "#     quantities = []\n",
    "#     ingredients = []\n",
    "#     for l in lines:\n",
    "#         as_list = l.split(\", \")\n",
    "#         ingredients.append(as_list[0].replace(\"\\n\",\"\"))\n",
    "#         # ingredients.append(as_list.replace(\"\\n\", \"\"))\n",
    "# \t\t\t    #  quantities.append(as_list[0])\n",
    "#                 # ingredients.append(as_list.replace(\"\\n\", \"\"))\n",
    "#                            # \n",
    "#     print(as_list)\n",
    "#     print(ingredients)\n",
    "#     file = open('title_var.txt', 'w')\n",
    "#     json.dump(ingredients, file)\n",
    "#     file.close()    "
   ],
   "outputs": [],
   "metadata": {}
  }
 ],
 "metadata": {
  "orig_nbformat": 4,
  "language_info": {
   "name": "python",
   "version": "3.8.10",
   "mimetype": "text/x-python",
   "codemirror_mode": {
    "name": "ipython",
    "version": 3
   },
   "pygments_lexer": "ipython3",
   "nbconvert_exporter": "python",
   "file_extension": ".py"
  },
  "kernelspec": {
   "name": "python3810jvsc74a57bd0e06a044399fcee55785cbe37120d77954f1d49f7727169dd83dc6ef8e554e324",
   "display_name": "Python 3.8.10 64-bit ('movie.env': venv)",
   "language": "python"
  },
  "interpreter": {
   "hash": "e06a044399fcee55785cbe37120d77954f1d49f7727169dd83dc6ef8e554e324"
  }
 },
 "nbformat": 4,
 "nbformat_minor": 2
}